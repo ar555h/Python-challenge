{
 "cells": [
  {
   "cell_type": "code",
   "execution_count": null,
   "id": "87503baa",
   "metadata": {},
   "outputs": [],
   "source": [
    "import sqlite3\n",
    "import pandas as pd\n",
    "\n",
    "# Connect to the SQLite database\n",
    "conn = sqlite3.connect('database.db')\n",
    "\n",
    "# Retrieve the total number of votes cast\n",
    "total_votes_query = \"\"\"\n",
    "SELECT COUNT(*)\n",
    "FROM ELECTION_DATA_1685056111.ELECTION_DATA;\n",
    "\"\"\"\n",
    "total_votes = pd.read_sql_query(total_votes_query, conn).iloc[0][0]\n",
    "\n",
    "# Retrieve a complete list of candidates who received votes\n",
    "candidates_query = \"\"\"\n",
    "SELECT DISTINCT Candidate\n",
    "FROM ELECTION_DATA_1685056111.ELECTION_DATA;\n",
    "\"\"\"\n",
    "candidates = pd.read_sql_query(candidates_query, conn)['Candidate'].tolist()\n",
    "\n",
    "# Calculate the percentage of votes each candidate won and the total number of votes each candidate won\n",
    "votes_query = \"\"\"\n",
    "SELECT Candidate, COUNT(*) as num_votes\n",
    "FROM ELECTION_DATA_1685056111.ELECTION_DATA\n",
    "GROUP BY Candidate;\n",
    "\"\"\"\n",
    "votes_df = pd.read_sql_query(votes_query, conn)\n",
    "votes_df['vote_percentage'] = votes_df['num_votes'] / total_votes * 100\n",
    "\n",
    "# Retrieve the winner of the election based on popular vote\n",
    "winner_query = \"\"\"\n",
    "SELECT Candidate, COUNT(*) as num_votes\n",
    "FROM ELECTION_DATA_1685056111.ELECTION_DATA\n",
    "GROUP BY Candidate\n",
    "ORDER BY num_votes DESC\n",
    "LIMIT 1;\n",
    "\"\"\"\n",
    "winner = pd.read_sql_query(winner_query, conn).iloc[0]['Candidate']\n",
    "\n",
    "# Print the results\n",
    "print(f'Total Votes: {total_votes}')\n",
    "print(f'List of Candidates: {candidates}')\n",
    "print('Vote Breakdown:')\n",
    "print(votes_df.to_string(index=False))\n",
    "print(f'\\nWinner: {winner}')\n",
    "\n",
    "# Close the database connection\n",
    "conn.close()"
   ]
  },
  {
   "cell_type": "code",
   "execution_count": null,
   "id": "2492c1ec",
   "metadata": {},
   "outputs": [],
   "source": []
  },
  {
   "cell_type": "code",
   "execution_count": null,
   "id": "467ab2a1",
   "metadata": {},
   "outputs": [],
   "source": []
  }
 ],
 "metadata": {
  "kernelspec": {
   "display_name": "Python 3 (ipykernel)",
   "language": "python",
   "name": "python3"
  },
  "language_info": {
   "codemirror_mode": {
    "name": "ipython",
    "version": 3
   },
   "file_extension": ".py",
   "mimetype": "text/x-python",
   "name": "python",
   "nbconvert_exporter": "python",
   "pygments_lexer": "ipython3",
   "version": "3.10.11"
  }
 },
 "nbformat": 4,
 "nbformat_minor": 5
}
